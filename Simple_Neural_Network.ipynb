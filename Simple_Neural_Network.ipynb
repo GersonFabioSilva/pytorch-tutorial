{
  "nbformat": 4,
  "nbformat_minor": 0,
  "metadata": {
    "colab": {
      "provenance": [],
      "authorship_tag": "ABX9TyOaSc0ATuq9QwQ4UxPAleJF",
      "include_colab_link": true
    },
    "kernelspec": {
      "name": "python3",
      "display_name": "Python 3"
    },
    "language_info": {
      "name": "python"
    }
  },
  "cells": [
    {
      "cell_type": "markdown",
      "metadata": {
        "id": "view-in-github",
        "colab_type": "text"
      },
      "source": [
        "<a href=\"https://colab.research.google.com/github/GersonFabioSilva/pytorch-tutorial/blob/main/Simple_Neural_Network.ipynb\" target=\"_parent\"><img src=\"https://colab.research.google.com/assets/colab-badge.svg\" alt=\"Open In Colab\"/></a>"
      ]
    },
    {
      "cell_type": "code",
      "execution_count": 1,
      "metadata": {
        "id": "vI8V9NQKOmeD"
      },
      "outputs": [],
      "source": [
        "import torch\n",
        "import torch.nn as nn\n",
        "import torch.nn.functional as F"
      ]
    },
    {
      "cell_type": "code",
      "source": [
        "#create a Model Class that inherits nn.Module\n",
        "class Model(nn.Module):\n",
        "  # in_features  = 4 (features of the flowers)\n",
        "  # h1 -- > hidden layer 1's number of neurons\n",
        "  # h2 -- > hidden layer 2's number of neurons\n",
        "  # output_classes (3 classes of iris flower)\n",
        "\n",
        "  def __init__(self, in_features=4, h1=8,h2=9,output_classes=3):\n",
        "    super().__init__() # instantiate ou nn.module\n",
        "    self.fc1 = nn.Linear(in_features,h1)\n",
        "    self.fc2 = nn.Linear(h1,h2)\n",
        "    self.out = nn.Linear(h2,output_classes)\n",
        "\n",
        "  def forward(self,x):\n",
        "    x = F.relu(self.fc1(x))\n",
        "    x = F.relu(self.fc2(x))\n",
        "    x = F.self.out(x)\n",
        "\n",
        "    return x"
      ],
      "metadata": {
        "id": "ge-RcwdGQYas"
      },
      "execution_count": 3,
      "outputs": []
    },
    {
      "cell_type": "code",
      "source": [
        "#pick manual ssed for randomization\n",
        "torch.manual_seed(41)\n",
        "#create an instance of model\n",
        "model = Model()"
      ],
      "metadata": {
        "id": "GkVbHobfQxhb"
      },
      "execution_count": 4,
      "outputs": []
    },
    {
      "cell_type": "code",
      "source": [],
      "metadata": {
        "id": "PFErJZ0UVY60"
      },
      "execution_count": null,
      "outputs": []
    }
  ]
}